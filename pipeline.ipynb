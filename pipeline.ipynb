{
 "cells": [
  {
   "cell_type": "code",
   "execution_count": 2,
   "metadata": {},
   "outputs": [
    {
     "name": "stdout",
     "output_type": "stream",
     "text": [
      "Connexion réussie à la base de données.\n",
      "Extraction réussie de 1008213 lignes.\n",
      "   transactionId  step      type    amount     nameOrig  oldbalanceOrg  \\\n",
      "0              0     1   PAYMENT   9839.64  C1231006815       170136.0   \n",
      "1              1     1   PAYMENT   1864.28  C1666544295        21249.0   \n",
      "2              2     1  TRANSFER    181.00  C1305486145          181.0   \n",
      "3              3     1  CASH_OUT    181.00   C840083671          181.0   \n",
      "4              4     1   PAYMENT  11668.10  C2048537720        41554.0   \n",
      "\n",
      "   newbalanceOrig     nameDest  oldbalanceDest  newbalanceDest  isFraud  \n",
      "0        160296.0  M1979787155             0.0             0.0        0  \n",
      "1         19384.7  M2044282225             0.0             0.0        0  \n",
      "2             0.0   C553264065             0.0             0.0        1  \n",
      "3             0.0    C38997010         21182.0             0.0        1  \n",
      "4         29885.9  M1230701703             0.0             0.0        0  \n"
     ]
    }
   ],
   "source": [
    "import pandas as pd\n",
    "from sqlalchemy import create_engine\n",
    "\n",
    "# Configuration de la base de données\n",
    "DB_HOST = \"192.168.20.131\" # Adresse du serveur MySQL\n",
    "DB_USER = \"root\"       # Nom d'utilisateur MySQL\n",
    "DB_PASSWORD = \"devIA25\"  # Mot de passe MySQL\n",
    "DB_NAME = \"Projet_1_fraude\"   # Nom de la base de données\n",
    "\n",
    "# Connexion à la base de données\n",
    "def get_db_connection():\n",
    "    try:\n",
    "        # Création de l'engine SQLAlchemy\n",
    "        engine = create_engine(f\"mysql+pymysql://{DB_USER}:{DB_PASSWORD}@{DB_HOST}/{DB_NAME}\")\n",
    "        print(\"Connexion réussie à la base de données.\")\n",
    "        return engine\n",
    "    except Exception as e:\n",
    "        print(f\"Erreur de connexion à la base de données : {e}\")\n",
    "        return None\n",
    "\n",
    "# Extraction des données\n",
    "def extract_data(engine):\n",
    "    try:\n",
    "        query = f\"SELECT * FROM Transactions \"  # Requête SQL pour extraire toutes les données\n",
    "        data = pd.read_sql(query, engine)     # Lecture des données dans un DataFrame pandas\n",
    "        print(f\"Extraction réussie de {len(data)} lignes.\")\n",
    "        return data\n",
    "    except Exception as e:\n",
    "        print(f\"Erreur lors de l'extraction des données : {e}\")\n",
    "        return None\n",
    "\n",
    "# Pipeline principal\n",
    "def run_pipeline():\n",
    "    engine = get_db_connection()\n",
    "    if engine:\n",
    "        # Étape : Extraction des données\n",
    "        data = extract_data(engine)\n",
    "        if data is not None:\n",
    "            # Affichage des 5 premières lignes\n",
    "            print(data.head())\n",
    "            \n",
    "\n",
    "if __name__ == \"__main__\":\n",
    "    run_pipeline()\n"
   ]
  }
 ],
 "metadata": {
  "kernelspec": {
   "display_name": "venv",
   "language": "python",
   "name": "python3"
  },
  "language_info": {
   "codemirror_mode": {
    "name": "ipython",
    "version": 3
   },
   "file_extension": ".py",
   "mimetype": "text/x-python",
   "name": "python",
   "nbconvert_exporter": "python",
   "pygments_lexer": "ipython3",
   "version": "3.13.1"
  }
 },
 "nbformat": 4,
 "nbformat_minor": 2
}
